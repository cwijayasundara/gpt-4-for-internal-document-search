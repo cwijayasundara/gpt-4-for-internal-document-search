{
  "nbformat": 4,
  "nbformat_minor": 0,
  "metadata": {
    "colab": {
      "provenance": []
    },
    "kernelspec": {
      "name": "python3",
      "display_name": "Python 3"
    },
    "language_info": {
      "name": "python"
    }
  },
  "cells": [
    {
      "cell_type": "code",
      "execution_count": null,
      "metadata": {
        "id": "_qo9OKV_Ztgq"
      },
      "outputs": [],
      "source": [
        "!pip install -qU pinecone-client openai langchain unstructured pdf2image tiktoken"
      ]
    },
    {
      "cell_type": "code",
      "source": [
        "from langchain.document_loaders import UnstructuredPDFLoader, OnlinePDFLoader\n",
        "from langchain.text_splitter import RecursiveCharacterTextSplitter"
      ],
      "metadata": {
        "id": "CpVAnqo_a0EW"
      },
      "execution_count": 19,
      "outputs": []
    },
    {
      "cell_type": "markdown",
      "source": [
        "Load Data. Save the .pdf in the Google drive and load it from there. Pair your Colab env with Google drive"
      ],
      "metadata": {
        "id": "ijW8m3uwboVG"
      }
    },
    {
      "cell_type": "code",
      "source": [
        "loader = UnstructuredPDFLoader(\"/content/drive/MyDrive/generative-ai/tesla-ar-2021.pdf\")\n",
        "data = loader.load()"
      ],
      "metadata": {
        "colab": {
          "base_uri": "https://localhost:8080/"
        },
        "id": "fr1P2VmIbqOO",
        "outputId": "86652874-3e00-44f6-ee1a-fe8d2d530993"
      },
      "execution_count": 20,
      "outputs": [
        {
          "output_type": "stream",
          "name": "stderr",
          "text": [
            "[nltk_data] Downloading package punkt to /root/nltk_data...\n",
            "[nltk_data]   Unzipping tokenizers/punkt.zip.\n",
            "[nltk_data] Downloading package averaged_perceptron_tagger to\n",
            "[nltk_data]     /root/nltk_data...\n",
            "[nltk_data]   Unzipping taggers/averaged_perceptron_tagger.zip.\n"
          ]
        }
      ]
    },
    {
      "cell_type": "code",
      "source": [
        "print(f'You have {len(data)} document(s) in your data')\n",
        "print(f'There are {len(data[0].page_content)} charactors in the document')"
      ],
      "metadata": {
        "colab": {
          "base_uri": "https://localhost:8080/"
        },
        "id": "yj1qwCwrj0Zb",
        "outputId": "954254ff-9233-477f-978a-4b6009869259"
      },
      "execution_count": 21,
      "outputs": [
        {
          "output_type": "stream",
          "name": "stdout",
          "text": [
            "You have 1 document(s) in your data\n",
            "There are 455681 charactors in the document\n"
          ]
        }
      ]
    },
    {
      "cell_type": "markdown",
      "source": [
        "Chunk the document into small documents"
      ],
      "metadata": {
        "id": "tGLvKsM4mgXu"
      }
    },
    {
      "cell_type": "code",
      "source": [
        "text_spiltter = RecursiveCharacterTextSplitter(chunk_size=1000, chunk_overlap=0)\n",
        "texts = text_spiltter.split_documents(data)\n",
        "print(f'Now you have {len(texts)} documents')"
      ],
      "metadata": {
        "colab": {
          "base_uri": "https://localhost:8080/"
        },
        "id": "KPthw1nhmddj",
        "outputId": "b1cbbba4-3808-4438-8516-67cd27419f89"
      },
      "execution_count": 22,
      "outputs": [
        {
          "output_type": "stream",
          "name": "stdout",
          "text": [
            "Now you have 613 documents\n"
          ]
        }
      ]
    },
    {
      "cell_type": "code",
      "source": [
        "texts[0]"
      ],
      "metadata": {
        "colab": {
          "base_uri": "https://localhost:8080/"
        },
        "id": "BSgv0E8hnPdB",
        "outputId": "4a7ade2a-b5fc-441d-ba3c-72311ae75402"
      },
      "execution_count": 23,
      "outputs": [
        {
          "output_type": "execute_result",
          "data": {
            "text/plain": [
              "Document(page_content='UNITED STATES SECURITIES AND EXCHANGE COMMISSION Washington, D.C. 20549 FORM 10-K\\n\\n(Mark One) ☒ ANNUAL REPORT PURSUANT TO SECTION 13 OR 15(d) OF THE SECURITIES\\n\\nEXCHANGE ACT OF 1934\\n\\n☐ TRANSITION REPORT PURSUANT TO SECTION 13 OR 15(d) OF THE SECURITIES\\n\\nEXCHANGE ACT OF 1934\\n\\nFor the fiscal year ended December 31, 2021 OR\\n\\nFor the transition period from _________ to _________ Commission File Number: 001-34756\\n\\nTesla, Inc.\\n\\n(Exact name of registrant as specified in its charter)\\n\\nDelaware (State or other jurisdiction of incorporation or organization)\\n\\n13101 Tesla Road Austin, Texas (Address of principal executive offices)\\n\\n91-2197729 (I.R.S. Employer Identification No.)\\n\\n78725 (Zip Code)\\n\\n(512) 516-8177 (Registrant’s telephone number, including area code)\\n\\nSecurities registered pursuant to Section 12(b) of the Act:\\n\\nTitle of each class Common stock\\n\\nTrading Symbol(s) TSLA\\n\\nName of each exchange on which registered The Nasdaq Global Select Market', metadata={'source': '/content/drive/MyDrive/generative-ai/tesla-ar-2021.pdf'})"
            ]
          },
          "metadata": {},
          "execution_count": 23
        }
      ]
    },
    {
      "cell_type": "markdown",
      "source": [
        "Create embeddings for sementic search"
      ],
      "metadata": {
        "id": "zKh_u1xEn9bu"
      }
    },
    {
      "cell_type": "code",
      "source": [
        "from langchain.vectorstores import Pinecone\n",
        "from langchain.embeddings.openai import OpenAIEmbeddings\n",
        "import pinecone\n",
        "import openai"
      ],
      "metadata": {
        "id": "HEQtt5aFn2Mr"
      },
      "execution_count": 25,
      "outputs": []
    },
    {
      "cell_type": "code",
      "source": [
        "openai.api_key = \"\"\n",
        "embeddings = OpenAIEmbeddings(openai_api_key=openai.api_key)\n",
        "index_name = 'semantic-search-openai'"
      ],
      "metadata": {
        "id": "2urXvm88pDPb"
      },
      "execution_count": 32,
      "outputs": []
    },
    {
      "cell_type": "code",
      "source": [
        "pinecone.init(\n",
        "    api_key=\"\",\n",
        "    environment=\"\"  # find next to api key in console\n",
        ")\n",
        "# check if 'openai' index already exists (only create index if not)\n",
        "if index_name not in pinecone.list_indexes():\n",
        "    pinecone.create_index(index_name, dimension=1536)\n",
        "# connect to index\n",
        "index = pinecone.Index(index_name)"
      ],
      "metadata": {
        "id": "HpG0pA3krof4"
      },
      "execution_count": 33,
      "outputs": []
    },
    {
      "cell_type": "markdown",
      "source": [
        "Saving all those documents to the Pinecone Index!"
      ],
      "metadata": {
        "id": "Rx3W_AwftxJO"
      }
    },
    {
      "cell_type": "code",
      "source": [
        "docsearch = Pinecone.from_texts([t.page_content for t in texts],embeddings, index_name=index_name )"
      ],
      "metadata": {
        "id": "C4KBg0weroUz"
      },
      "execution_count": 36,
      "outputs": []
    },
    {
      "cell_type": "markdown",
      "source": [
        "Returns the 5 documents with the most probability to the query"
      ],
      "metadata": {
        "id": "xgAI4K-Svt2b"
      }
    },
    {
      "cell_type": "code",
      "source": [
        "query_1 = \"what was the initial public offering price per share for Tesla?\"\n",
        "docs = docsearch.similarity_search(query_1)"
      ],
      "metadata": {
        "id": "N-6oYeeeuHZM"
      },
      "execution_count": null,
      "outputs": []
    },
    {
      "cell_type": "code",
      "source": [
        "docs"
      ],
      "metadata": {
        "id": "DTrWypYyroJX"
      },
      "execution_count": null,
      "outputs": []
    },
    {
      "cell_type": "markdown",
      "source": [
        "Query the docs to get the answer back"
      ],
      "metadata": {
        "id": "qUNO0gAtv4lr"
      }
    },
    {
      "cell_type": "code",
      "source": [
        "from langchain.llms import OpenAI\n",
        "from langchain.chains.question_answering import load_qa_chain\n",
        "llm = OpenAI(openai_api_key=openai.api_key)\n",
        "chain = load_qa_chain(llm, chain_type=\"stuff\")"
      ],
      "metadata": {
        "id": "G1VMV0Ztv_J-"
      },
      "execution_count": 42,
      "outputs": []
    },
    {
      "cell_type": "code",
      "source": [
        "result_docs = docsearch.similarity_search(query_1)\n",
        "chain.run(input_documents=result_docs, question=query_1)"
      ],
      "metadata": {
        "colab": {
          "base_uri": "https://localhost:8080/",
          "height": 35
        },
        "id": "vM5zFTCUyFX2",
        "outputId": "f0c7c85e-f899-42b1-86d5-3fb1def084ad"
      },
      "execution_count": 43,
      "outputs": [
        {
          "output_type": "execute_result",
          "data": {
            "text/plain": [
              "' $3.40 per share.'"
            ],
            "application/vnd.google.colaboratory.intrinsic+json": {
              "type": "string"
            }
          },
          "metadata": {},
          "execution_count": 43
        }
      ]
    },
    {
      "cell_type": "code",
      "source": [
        "query_2 = \"Which factories produce Model X for Tesla?\"\n",
        "result_docs_2 = docsearch.similarity_search(query_2)\n",
        "chain.run(input_documents=result_docs_2, question=query_2)"
      ],
      "metadata": {
        "colab": {
          "base_uri": "https://localhost:8080/",
          "height": 35
        },
        "id": "8xc6vm5Xv-ZU",
        "outputId": "91744649-3b9d-4131-9718-b29f5e49832c"
      },
      "execution_count": 44,
      "outputs": [
        {
          "output_type": "execute_result",
          "data": {
            "text/plain": [
              "' The Fremont Factory produces Model X for Tesla.'"
            ],
            "application/vnd.google.colaboratory.intrinsic+json": {
              "type": "string"
            }
          },
          "metadata": {},
          "execution_count": 44
        }
      ]
    },
    {
      "cell_type": "code",
      "source": [
        "query_3 = \"Which factories produce Tesla Roadster?\"\n",
        "result_docs_3 = docsearch.similarity_search(query_3)\n",
        "chain.run(input_documents=result_docs_3, question=query_3)"
      ],
      "metadata": {
        "colab": {
          "base_uri": "https://localhost:8080/",
          "height": 35
        },
        "id": "DPXI4NQC0F9W",
        "outputId": "fc6b11f7-e31a-423e-9719-f0493769886d"
      },
      "execution_count": 46,
      "outputs": [
        {
          "output_type": "execute_result",
          "data": {
            "text/plain": [
              "' The Tesla Roadster is not produced at any of the factories listed.'"
            ],
            "application/vnd.google.colaboratory.intrinsic+json": {
              "type": "string"
            }
          },
          "metadata": {},
          "execution_count": 46
        }
      ]
    },
    {
      "cell_type": "code",
      "source": [
        "query_4 = \"What was the total revenues for Tesla for 2021? \"\n",
        "result_docs_4 = docsearch.similarity_search(query_4)\n",
        "chain.run(input_documents=result_docs_4, question=query_4)"
      ],
      "metadata": {
        "colab": {
          "base_uri": "https://localhost:8080/",
          "height": 35
        },
        "id": "d8B3xIgs0xv8",
        "outputId": "ec53a2db-951b-48f6-a950-19c81ac28255"
      },
      "execution_count": 47,
      "outputs": [
        {
          "output_type": "execute_result",
          "data": {
            "text/plain": [
              "' 52,148 million.'"
            ],
            "application/vnd.google.colaboratory.intrinsic+json": {
              "type": "string"
            }
          },
          "metadata": {},
          "execution_count": 47
        }
      ]
    },
    {
      "cell_type": "code",
      "source": [
        "query_5 = \"What was the percentage increase in Tesla's revenues in 2021 compared to 2020?\"\n",
        "result_docs_5 = docsearch.similarity_search(query_5)\n",
        "chain.run(input_documents=result_docs_5, question=query_5)"
      ],
      "metadata": {
        "colab": {
          "base_uri": "https://localhost:8080/",
          "height": 35
        },
        "id": "n1B9OoAt1jLg",
        "outputId": "89f7684e-e13d-4802-ad82-999ea2818689"
      },
      "execution_count": 49,
      "outputs": [
        {
          "output_type": "execute_result",
          "data": {
            "text/plain": [
              "' 79%'"
            ],
            "application/vnd.google.colaboratory.intrinsic+json": {
              "type": "string"
            }
          },
          "metadata": {},
          "execution_count": 49
        }
      ]
    },
    {
      "cell_type": "code",
      "source": [
        "query_6 = \"What are the reasons for increase in Tesla's revenues in 2021 compared to 2020? Please provide the output in point form\"\n",
        "result_docs_6 = docsearch.similarity_search(query_6)\n",
        "chain.run(input_documents=result_docs_6, question=query_6)"
      ],
      "metadata": {
        "colab": {
          "base_uri": "https://localhost:8080/",
          "height": 89
        },
        "id": "ScfccF5P2JhH",
        "outputId": "d0043028-1d10-42b0-8560-806d3c9aaa99"
      },
      "execution_count": 51,
      "outputs": [
        {
          "output_type": "execute_result",
          "data": {
            "text/plain": [
              "'\\n\\n- Increase of 433,815 Model 3 and Model Y cash deliveries\\n- Increase in cumulative vehicles under direct operating lease program\\n- Increase in direct sales-type leasing cost of revenues\\n- Increase in used vehicle cost of revenue\\n- Increase in costs to support non-warranty maintenance services revenue\\n- Increase in costs of retail merchandise\\n- Net release of sales return reserve on vehicles sold with resale value guarantees\\n- Decrease in combined average Model 3 and Model Y costs per unit'"
            ],
            "application/vnd.google.colaboratory.intrinsic+json": {
              "type": "string"
            }
          },
          "metadata": {},
          "execution_count": 51
        }
      ]
    },
    {
      "cell_type": "code",
      "source": [
        "query_7 = \"How much tax was paid by Tesla for 2021?\"\n",
        "result_docs_7 = docsearch.similarity_search(query_7)\n",
        "chain.run(input_documents=result_docs_7, question=query_7)"
      ],
      "metadata": {
        "colab": {
          "base_uri": "https://localhost:8080/",
          "height": 53
        },
        "id": "Bxd9f4Ve3Uew",
        "outputId": "12554f87-d761-4115-f7cb-ff5a146dff88"
      },
      "execution_count": 52,
      "outputs": [
        {
          "output_type": "execute_result",
          "data": {
            "text/plain": [
              "' Tesla does not provide a specific figure for the amount of taxes paid in 2021. The information provided is related to multi-year sales tax exclusions and incentives related to the expansion and ongoing development of electric vehicles and powertrain production in California.'"
            ],
            "application/vnd.google.colaboratory.intrinsic+json": {
              "type": "string"
            }
          },
          "metadata": {},
          "execution_count": 52
        }
      ]
    },
    {
      "cell_type": "code",
      "source": [],
      "metadata": {
        "id": "ZQR29mlI3p_W"
      },
      "execution_count": null,
      "outputs": []
    },
    {
      "cell_type": "markdown",
      "source": [
        "Finally delete the Pinecone index (Optional)"
      ],
      "metadata": {
        "id": "T1MuAI5_x6d3"
      }
    },
    {
      "cell_type": "code",
      "source": [
        "# pinecone.delete_index('semantic-search-openai')"
      ],
      "metadata": {
        "id": "XDdLQLW8rBoE"
      },
      "execution_count": null,
      "outputs": []
    }
  ]
}